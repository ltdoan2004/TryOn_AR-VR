{
 "cells": [
  {
   "cell_type": "code",
   "execution_count": 4,
   "metadata": {},
   "outputs": [
    {
     "name": "stdout",
     "output_type": "stream",
     "text": [
      "\u001b[1;33m[Open3D WARNING] Unable to load file data/ring2_webgi.glb with ASSIMP: Unable to open file \"data/ring2_webgi.glb\".\u001b[0;m\n",
      "Không thể tải tệp GLB!\n"
     ]
    }
   ],
   "source": [
    "import open3d as o3d\n",
    "\n",
    "# Đọc file GLB\n",
    "glb_path = \"data/ring2_webgi.glb\"  # Thay bằng đường dẫn chính xác nếu cần\n",
    "mesh = o3d.io.read_triangle_mesh(glb_path)\n",
    "\n",
    "# Kiểm tra nếu tệp được tải thành công\n",
    "if mesh.is_empty():\n",
    "    print(\"Không thể tải tệp GLB!\")\n",
    "else:\n",
    "    print(\"Tải tệp GLB thành công, hiển thị mô hình...\")\n",
    "    o3d.visualization.draw_geometries([mesh])\n"
   ]
  },
  {
   "cell_type": "code",
   "execution_count": null,
   "metadata": {},
   "outputs": [
    {
     "name": "stdout",
     "output_type": "stream",
     "text": [
      "Tệp GLB đã được tải thành công!\n"
     ]
    },
    {
     "ename": "KeyboardInterrupt",
     "evalue": "",
     "output_type": "error",
     "traceback": [
      "\u001b[0;31m---------------------------------------------------------------------------\u001b[0m",
      "\u001b[0;31mKeyboardInterrupt\u001b[0m                         Traceback (most recent call last)",
      "Cell \u001b[0;32mIn[12], line 34\u001b[0m\n\u001b[1;32m     32\u001b[0m     glRotatef(\u001b[38;5;241m1\u001b[39m, \u001b[38;5;241m3\u001b[39m, \u001b[38;5;241m1\u001b[39m, \u001b[38;5;241m1\u001b[39m)  \u001b[38;5;66;03m# Xoay mô hình\u001b[39;00m\n\u001b[1;32m     33\u001b[0m     glutSolidTeapot(\u001b[38;5;241m1\u001b[39m)     \u001b[38;5;66;03m# Hiển thị vật mẫu (nếu GLB không hiển thị)\u001b[39;00m\n\u001b[0;32m---> 34\u001b[0m     \u001b[43mglfw\u001b[49m\u001b[38;5;241;43m.\u001b[39;49m\u001b[43mswap_buffers\u001b[49m\u001b[43m(\u001b[49m\u001b[43mwindow\u001b[49m\u001b[43m)\u001b[49m\n\u001b[1;32m     35\u001b[0m     glfw\u001b[38;5;241m.\u001b[39mpoll_events()\n\u001b[1;32m     37\u001b[0m glfw\u001b[38;5;241m.\u001b[39mterminate()\n",
      "File \u001b[0;32m/opt/anaconda3/envs/ring/lib/python3.10/site-packages/glfw/__init__.py:2380\u001b[0m, in \u001b[0;36mswap_buffers\u001b[0;34m(window)\u001b[0m\n\u001b[1;32m   2373\u001b[0m \u001b[38;5;28;01mdef\u001b[39;00m\u001b[38;5;250m \u001b[39m\u001b[38;5;21mswap_buffers\u001b[39m(window):\n\u001b[1;32m   2374\u001b[0m \u001b[38;5;250m    \u001b[39m\u001b[38;5;124;03m\"\"\"\u001b[39;00m\n\u001b[1;32m   2375\u001b[0m \u001b[38;5;124;03m    Swaps the front and back buffers of the specified window.\u001b[39;00m\n\u001b[1;32m   2376\u001b[0m \n\u001b[1;32m   2377\u001b[0m \u001b[38;5;124;03m    Wrapper for:\u001b[39;00m\n\u001b[1;32m   2378\u001b[0m \u001b[38;5;124;03m        void glfwSwapBuffers(GLFWwindow* window);\u001b[39;00m\n\u001b[1;32m   2379\u001b[0m \u001b[38;5;124;03m    \"\"\"\u001b[39;00m\n\u001b[0;32m-> 2380\u001b[0m     \u001b[43m_glfw\u001b[49m\u001b[38;5;241;43m.\u001b[39;49m\u001b[43mglfwSwapBuffers\u001b[49m\u001b[43m(\u001b[49m\u001b[43mwindow\u001b[49m\u001b[43m)\u001b[49m\n",
      "File \u001b[0;32m/opt/anaconda3/envs/ring/lib/python3.10/site-packages/glfw/__init__.py:687\u001b[0m, in \u001b[0;36m_prepare_errcheck.<locals>.errcheck\u001b[0;34m(result, *args)\u001b[0m\n\u001b[1;32m    679\u001b[0m \u001b[38;5;28;01mdef\u001b[39;00m\u001b[38;5;250m \u001b[39m\u001b[38;5;21m_prepare_errcheck\u001b[39m():\n\u001b[1;32m    680\u001b[0m \u001b[38;5;250m    \u001b[39m\u001b[38;5;124;03m\"\"\"\u001b[39;00m\n\u001b[1;32m    681\u001b[0m \u001b[38;5;124;03m    This function sets the errcheck attribute of all ctypes wrapped functions\u001b[39;00m\n\u001b[1;32m    682\u001b[0m \u001b[38;5;124;03m    to evaluate the _exc_info_from_callback global variable and re-raise any\u001b[39;00m\n\u001b[0;32m   (...)\u001b[0m\n\u001b[1;32m    685\u001b[0m \u001b[38;5;124;03m    using the _callback_exception_decorator.\u001b[39;00m\n\u001b[1;32m    686\u001b[0m \u001b[38;5;124;03m    \"\"\"\u001b[39;00m\n\u001b[0;32m--> 687\u001b[0m     \u001b[38;5;28;01mdef\u001b[39;00m\u001b[38;5;250m \u001b[39m\u001b[38;5;21merrcheck\u001b[39m(result, \u001b[38;5;241m*\u001b[39margs):\n\u001b[1;32m    688\u001b[0m         \u001b[38;5;28;01mglobal\u001b[39;00m _exc_info_from_callback\n\u001b[1;32m    689\u001b[0m         \u001b[38;5;28;01mif\u001b[39;00m _exc_info_from_callback \u001b[38;5;129;01mis\u001b[39;00m \u001b[38;5;129;01mnot\u001b[39;00m \u001b[38;5;28;01mNone\u001b[39;00m:\n",
      "\u001b[0;31mKeyboardInterrupt\u001b[0m: "
     ]
    },
    {
     "ename": "",
     "evalue": "",
     "output_type": "error",
     "traceback": [
      "\u001b[1;31mThe Kernel crashed while executing code in the current cell or a previous cell. \n",
      "\u001b[1;31mPlease review the code in the cell(s) to identify a possible cause of the failure. \n",
      "\u001b[1;31mClick <a href='https://aka.ms/vscodeJupyterKernelCrash'>here</a> for more info. \n",
      "\u001b[1;31mView Jupyter <a href='command:jupyter.viewOutput'>log</a> for further details."
     ]
    }
   ],
   "source": [
    "import glfw\n",
    "from OpenGL.GL import *\n",
    "from OpenGL.GLUT import *\n",
    "from pygltflib import GLTF2\n",
    "\n",
    "# Thiết lập GLFW\n",
    "if not glfw.init():\n",
    "    raise Exception(\"GLFW không khởi tạo được!\")\n",
    "\n",
    "window = glfw.create_window(1200, 600, \"GLB Viewer\", None, None)\n",
    "if not window:\n",
    "    glfw.terminate()\n",
    "    raise Exception(\"Không thể tạo cửa sổ OpenGL!\")\n",
    "\n",
    "glfw.make_context_current(window)\n",
    "\n",
    "# Cấu hình ánh sáng\n",
    "glEnable(GL_DEPTH_TEST)\n",
    "glEnable(GL_LIGHTING)\n",
    "glEnable(GL_LIGHT0)\n",
    "\n",
    "# Đặt vị trí ánh sáng\n",
    "glLightfv(GL_LIGHT0, GL_POSITION, [0.0, 1.0, 1.0, 0.0])\n",
    "\n",
    "# Load file GLB\n",
    "glb_path = \"/Users/doa_ai/Developer/TryOn_AR-VR/data/ring2_webgi3.glb\"\n",
    "gltf = GLTF2().load(glb_path)\n",
    "print(\"Tệp GLB đã được tải thành công!\")\n",
    "\n",
    "while not glfw.window_should_close(window):\n",
    "    glClear(GL_COLOR_BUFFER_BIT | GL_DEPTH_BUFFER_BIT)\n",
    "    glRotatef(1, 3, 1, 1)  # Xoay mô hình\n",
    "    glutSolidTeapot(1)     # Hiển thị vật mẫu (nếu GLB không hiển thị)\n",
    "    glfw.swap_buffers(window)\n",
    "    glfw.poll_events()\n",
    "\n",
    "glfw.terminate()\n"
   ]
  }
 ],
 "metadata": {
  "kernelspec": {
   "display_name": "ring",
   "language": "python",
   "name": "python3"
  },
  "language_info": {
   "codemirror_mode": {
    "name": "ipython",
    "version": 3
   },
   "file_extension": ".py",
   "mimetype": "text/x-python",
   "name": "python",
   "nbconvert_exporter": "python",
   "pygments_lexer": "ipython3",
   "version": "3.10.16"
  }
 },
 "nbformat": 4,
 "nbformat_minor": 2
}
